{
  "nbformat": 4,
  "nbformat_minor": 0,
  "metadata": {
    "colab": {
      "name": "40CPU-T4.ipynb",
      "private_outputs": true,
      "provenance": [],
      "collapsed_sections": [],
      "machine_shape": "hm",
      "toc_visible": true
    },
    "kernelspec": {
      "name": "python3",
      "display_name": "Python 3"
    },
    "accelerator": "TPU"
  },
  "cells": [
    {
      "cell_type": "markdown",
      "source": [
        "# **Change Runtime *TPU* or *GPU* before Run**"
      ],
      "metadata": {
        "id": "k61BNQQ2ljpJ"
      }
    },
    {
      "cell_type": "code",
      "source": [
        "#@title **CPU Check...**\n",
        "!lscpu"
      ],
      "metadata": {
        "id": "24MNMM1sS5SD",
        "cellView": "form"
      },
      "execution_count": null,
      "outputs": []
    },
    {
      "cell_type": "code",
      "source": [
        "#@title **GPU Check...**\n",
        "!nvidia-smi"
      ],
      "metadata": {
        "id": "bihoghMtdzgm",
        "cellView": "form"
      },
      "execution_count": null,
      "outputs": []
    },
    {
      "cell_type": "markdown",
      "source": [
        "**Change Ngrok Token & Pass before run!!!**"
      ],
      "metadata": {
        "id": "SKqJO6C5mLLo"
      }
    },
    {
      "cell_type": "code",
      "source": [
        "#@title **RUN SSH Ngrok**\n",
        "#Install colab_ssh\n",
        "!pip install colab_ssh --upgrade\n",
        "\n",
        "from colab_ssh import launch_ssh\n",
        "launch_ssh('PASTE-NGROK-TOKEN','123456')"
      ],
      "metadata": {
        "id": "5padYdCOedCQ",
        "cellView": "form"
      },
      "execution_count": null,
      "outputs": []
    },
    {
      "cell_type": "code",
      "source": [
        "#@title **Sleep Mode**\n",
        "!sleep 9999999999"
      ],
      "metadata": {
        "cellView": "form",
        "id": "YrF9ctA_mc5r"
      },
      "execution_count": null,
      "outputs": []
    }
  ]
}